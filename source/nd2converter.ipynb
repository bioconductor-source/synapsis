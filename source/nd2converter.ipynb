{
 "cells": [
  {
   "cell_type": "code",
   "execution_count": null,
   "metadata": {},
   "outputs": [
    {
     "name": "stdout",
     "output_type": "stream",
     "text": [
      "/Users/lmcneill/Documents/svi/imaging/data-folder/from-sharepoint/OneDrive_1_01-06-2021/20210420_fancm_fvb_exon2_595++_MLH3rabbit488_SYCP3mouse594_VT_slide01_image001\n",
      "/Users/lmcneill/Documents/svi/imaging/data-folder/from-sharepoint/OneDrive_1_01-06-2021/20210420_fancm_fvb_exon2_595++_MLH3rabbit488_SYCP3mouse594_VT_slide01_image002\n",
      "/Users/lmcneill/Documents/svi/imaging/data-folder/from-sharepoint/OneDrive_1_01-06-2021/20210420_fancm_fvb_exon2_595++_MLH3rabbit488_SYCP3mouse594_VT_slide01_image003\n",
      "/Users/lmcneill/Documents/svi/imaging/data-folder/from-sharepoint/OneDrive_1_01-06-2021/20210420_fancm_fvb_exon2_595++_MLH3rabbit488_SYCP3mouse594_VT_slide01_image004\n",
      "/Users/lmcneill/Documents/svi/imaging/data-folder/from-sharepoint/OneDrive_1_01-06-2021/20210420_fancm_fvb_exon2_595++_MLH3rabbit488_SYCP3mouse594_VT_slide01_image005\n",
      "/Users/lmcneill/Documents/svi/imaging/data-folder/from-sharepoint/OneDrive_1_01-06-2021/20210420_fancm_fvb_exon2_595++_MLH3rabbit488_SYCP3mouse594_VT_slide01_image006\n",
      "Couldn't open file/Users/lmcneill/Documents/svi/imaging/data-folder/from-sharepoint/OneDrive_1_01-06-2021/20210420_fancm_fvb_exon2_595++_MLH3rabbit488_SYCP3mouse594_VT_slide01_image006.nd2\n",
      "/Users/lmcneill/Documents/svi/imaging/data-folder/from-sharepoint/OneDrive_1_01-06-2021/20210420_fancm_fvb_exon2_595++_MLH3rabbit488_SYCP3mouse594_VT_slide01_image007\n",
      "/Users/lmcneill/Documents/svi/imaging/data-folder/from-sharepoint/OneDrive_1_01-06-2021/20210420_fancm_fvb_exon2_595++_MLH3rabbit488_SYCP3mouse594_VT_slide01_image008\n",
      "Couldn't open file/Users/lmcneill/Documents/svi/imaging/data-folder/from-sharepoint/OneDrive_1_01-06-2021/20210420_fancm_fvb_exon2_595++_MLH3rabbit488_SYCP3mouse594_VT_slide01_image008.nd2\n",
      "/Users/lmcneill/Documents/svi/imaging/data-folder/from-sharepoint/OneDrive_1_01-06-2021/20210420_fancm_fvb_exon2_595++_MLH3rabbit488_SYCP3mouse594_VT_slide01_image009\n"
     ]
    },
    {
     "name": "stderr",
     "output_type": "stream",
     "text": [
      "<ipython-input-3-596d39bad430>:30: RuntimeWarning: More than 20 figures have been opened. Figures created through the pyplot interface (`matplotlib.pyplot.figure`) are retained until explicitly closed and may consume too much memory. (To control this warning, see the rcParam `figure.max_open_warning`).\n",
      "  plt.figure(figsize = (10,10))\n"
     ]
    },
    {
     "name": "stdout",
     "output_type": "stream",
     "text": [
      "/Users/lmcneill/Documents/svi/imaging/data-folder/from-sharepoint/OneDrive_1_01-06-2021/20210420_fancm_fvb_exon2_595++_MLH3rabbit488_SYCP3mouse594_VT_slide01_image010\n",
      "/Users/lmcneill/Documents/svi/imaging/data-folder/from-sharepoint/OneDrive_1_01-06-2021/20210420_fancm_fvb_exon2_595++_MLH3rabbit488_SYCP3mouse594_VT_slide01_image011\n",
      "/Users/lmcneill/Documents/svi/imaging/data-folder/from-sharepoint/OneDrive_1_01-06-2021/20210420_fancm_fvb_exon2_595++_MLH3rabbit488_SYCP3mouse594_VT_slide01_image012\n",
      "/Users/lmcneill/Documents/svi/imaging/data-folder/from-sharepoint/OneDrive_1_01-06-2021/20210420_fancm_fvb_exon2_595++_MLH3rabbit488_SYCP3mouse594_VT_slide01_image013\n",
      "/Users/lmcneill/Documents/svi/imaging/data-folder/from-sharepoint/OneDrive_1_01-06-2021/20210420_fancm_fvb_exon2_595++_MLH3rabbit488_SYCP3mouse594_VT_slide01_image014\n",
      "/Users/lmcneill/Documents/svi/imaging/data-folder/from-sharepoint/OneDrive_1_01-06-2021/20210420_fancm_fvb_exon2_595++_MLH3rabbit488_SYCP3mouse594_VT_slide01_image015\n",
      "/Users/lmcneill/Documents/svi/imaging/data-folder/from-sharepoint/OneDrive_1_01-06-2021/20210420_fancm_fvb_exon2_595++_MLH3rabbit488_SYCP3mouse594_VT_slide01_image016\n",
      "/Users/lmcneill/Documents/svi/imaging/data-folder/from-sharepoint/OneDrive_1_01-06-2021/20210420_fancm_fvb_exon2_595++_MLH3rabbit488_SYCP3mouse594_VT_slide01_image017\n",
      "/Users/lmcneill/Documents/svi/imaging/data-folder/from-sharepoint/OneDrive_1_01-06-2021/20210420_fancm_fvb_exon2_595++_MLH3rabbit488_SYCP3mouse594_VT_slide01_image018\n",
      "/Users/lmcneill/Documents/svi/imaging/data-folder/from-sharepoint/OneDrive_1_01-06-2021/20210420_fancm_fvb_exon2_595++_MLH3rabbit488_SYCP3mouse594_VT_slide01_image019\n"
     ]
    }
   ],
   "source": [
    "from nd2reader import ND2Reader\n",
    "import matplotlib.pyplot as plt\n",
    "import numpy as np\n",
    "import os\n",
    "import glob\n",
    "from PIL import Image\n",
    "\n",
    "# location of the nd2 files to convert\n",
    "#parent_dir = 'data-folder/from-sharepoint/OneDrive_1_01-06-2021'\n",
    "parent_dir = '/Users/lmcneill/Documents/svi/imaging/data-folder/from-sharepoint/OneDrive_1_01-06-2021'\n",
    "dpi_choice = 50\n",
    "filenames = []\n",
    "filenames_base = []\n",
    "\n",
    "for file in glob.glob(os.path.join(parent_dir, '*nd2')):\n",
    "    filenames.append(file)\n",
    "         \n",
    "filenames = sorted(filenames)\n",
    "\n",
    "for name in filenames:\n",
    "    base=os.path.basename(name)\n",
    "    os.path.splitext(base)\n",
    "    name_base = os.path.splitext(base)[0]\n",
    "    new_name = parent_dir+'/'+str(name_base)\n",
    "    print(new_name)\n",
    "    \n",
    "    try:\n",
    "\n",
    "        with ND2Reader(str(name)) as images:\n",
    "            plt.figure(figsize = (10,10))\n",
    "            plt.gca().set_axis_off()\n",
    "            plt.subplots_adjust(top = 1, bottom = 0, right = 1, left = 0,\n",
    "                    hspace = 0, wspace = 0)\n",
    "            plt.margins(0,0)\n",
    "            plt.gca().xaxis.set_major_locator(plt.NullLocator())\n",
    "            plt.gca().yaxis.set_major_locator(plt.NullLocator())\n",
    "            plt.imshow(images[0],cmap = 'gray')\n",
    "        ### keep metadata... e.g.\n",
    "        ## savefig(fname, dpi=None, facecolor='w', edgecolor='w',\n",
    "        ## orientation='portrait', papertype=None, format=None,\n",
    "        ## transparent=False, bbox_inches=None, pad_inches=0.1,\n",
    "        ## frameon=None, metadata=None)\n",
    "            plt.savefig(str(new_name)+'-DAPI.tif',dpi = dpi_choice)\n",
    "            plt.figure(figsize = (10,10))\n",
    "            plt.gca().set_axis_off()\n",
    "            plt.subplots_adjust(top = 1, bottom = 0, right = 1, left = 0,\n",
    "                hspace = 0, wspace = 0)\n",
    "            plt.margins(0,0)\n",
    "            plt.gca().xaxis.set_major_locator(plt.NullLocator())\n",
    "            plt.gca().yaxis.set_major_locator(plt.NullLocator())\n",
    "            plt.imshow(images[1],cmap = 'gray')\n",
    "            plt.savefig(str(new_name)+'-MLH3.tif',dpi = dpi_choice)\n",
    "            plt.figure(figsize = (10,10))\n",
    "            plt.gca().set_axis_off()\n",
    "            plt.subplots_adjust(top = 1, bottom = 0, right = 1, left = 0,\n",
    "                    hspace = 0, wspace = 0)\n",
    "            plt.margins(0,0)\n",
    "            plt.gca().xaxis.set_major_locator(plt.NullLocator())\n",
    "            plt.gca().yaxis.set_major_locator(plt.NullLocator())\n",
    "            plt.imshow(images[2],cmap = 'gray')\n",
    "            plt.savefig(str(new_name)+'-SYCP3.tif', dpi = dpi_choice)\n",
    "\n",
    "    except:\n",
    "        print(\"Couldn't open file\"+str(name))\n"
   ]
  },
  {
   "cell_type": "code",
   "execution_count": null,
   "metadata": {},
   "outputs": [],
   "source": []
  },
  {
   "cell_type": "code",
   "execution_count": null,
   "metadata": {},
   "outputs": [],
   "source": []
  },
  {
   "cell_type": "code",
   "execution_count": null,
   "metadata": {},
   "outputs": [],
   "source": []
  },
  {
   "cell_type": "code",
   "execution_count": null,
   "metadata": {},
   "outputs": [],
   "source": []
  }
 ],
 "metadata": {
  "kernelspec": {
   "display_name": "Python 3",
   "language": "python",
   "name": "python3"
  },
  "language_info": {
   "codemirror_mode": {
    "name": "ipython",
    "version": 3
   },
   "file_extension": ".py",
   "mimetype": "text/x-python",
   "name": "python",
   "nbconvert_exporter": "python",
   "pygments_lexer": "ipython3",
   "version": "3.8.5"
  }
 },
 "nbformat": 4,
 "nbformat_minor": 4
}
